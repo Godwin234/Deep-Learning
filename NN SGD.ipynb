{
 "cells": [
  {
   "cell_type": "code",
   "execution_count": 4,
   "metadata": {},
   "outputs": [],
   "source": [
    "import torch, torchvision\n",
    "from torch import nn,optim\n",
    "from torch.autograd import Variable as Var \n",
    "import numpy as np\n",
    "import matplotlib.pyplot as plt\n",
    "import pandas as pd\n",
    "import torch, torchvision\n",
    "from torch import nn,optim\n",
    "from torch.autograd import Variable as var\n",
    "import torch.nn.functional as F\n",
    "from torchvision import datasets, transforms\n",
    "import torch.utils.data as data_utils\n",
    "from sklearn.datasets import make_moons\n",
    "from pandas import DataFrame"
   ]
  },
  {
   "cell_type": "code",
   "execution_count": 5,
   "metadata": {},
   "outputs": [
    {
     "data": {
      "image/png": "[encoded data removed]",
      "text/plain": [
       "<Figure size 432x288 with 1 Axes>"
      ]
     },
     "metadata": {
      "needs_background": "light"
     },
     "output_type": "display_data"
    }
   ],
   "source": [
    "X,y = make_moons(n_samples=100, noise=0.1)\n",
    "df = DataFrame(dict(x=X[:,0], y=X[:,1], label=y))\n",
    "colors = {0:'red', 1:'blue'}\n",
    "fig, ax = plt.subplots()\n",
    "grouped = df.groupby('label')\n",
    "for key, group in grouped:\n",
    "    group.plot(ax=ax, kind='scatter', x='x', y='y', label=key, color=colors[key])\n",
    "plt.show()"
   ]
  },
  {
   "cell_type": "code",
   "execution_count": 6,
   "metadata": {},
   "outputs": [],
   "source": [
    "def plot_decision_boundary(pred_func):\n",
    "    \n",
    "    x_min, x_max = X[:, 0].min() - .5, X[:, 0].max() + .5\n",
    "    y_min, y_max = X[:, 1].min() - .5, X[:, 1].max() + .5\n",
    "    h = 0.01\n",
    "    \n",
    "    xx, yy = np.meshgrid(np.arange(x_min, x_max, h), np.arange(y_min, y_max, h))\n",
    "    \n",
    "    Z = pred_func(np.c_[xx.ravel(), yy.ravel()])\n",
    "    Z = Z.reshape(xx.shape)\n",
    "    \n",
    "    plt.contourf(xx, yy, Z, cmap=plt.cm.Spectral)\n",
    "    plt.scatter(X[:, 0], X[:, 1], c=y, cmap=plt.cm.Spectral)"
   ]
  },
  {
   "cell_type": "code",
   "execution_count": 27,
   "metadata": {},
   "outputs": [
    {
     "data": {
      "text/html": [
       "<div>\n",
       "<style scoped>\n",
       "    .dataframe tbody tr th:only-of-type {\n",
       "        vertical-align: middle;\n",
       "    }\n",
       "\n",
       "    .dataframe tbody tr th {\n",
       "        vertical-align: top;\n",
       "    }\n",
       "\n",
       "    .dataframe thead th {\n",
       "        text-align: right;\n",
       "    }\n",
       "</style>\n",
       "<table border=\"1\" class=\"dataframe\">\n",
       "  <thead>\n",
       "    <tr style=\"text-align: right;\">\n",
       "      <th></th>\n",
       "      <th>x</th>\n",
       "      <th>y</th>\n",
       "      <th>label</th>\n",
       "    </tr>\n",
       "  </thead>\n",
       "  <tbody>\n",
       "    <tr>\n",
       "      <th>0</th>\n",
       "      <td>1.871850</td>\n",
       "      <td>0.038276</td>\n",
       "      <td>1</td>\n",
       "    </tr>\n",
       "    <tr>\n",
       "      <th>1</th>\n",
       "      <td>-0.792371</td>\n",
       "      <td>0.606460</td>\n",
       "      <td>0</td>\n",
       "    </tr>\n",
       "    <tr>\n",
       "      <th>2</th>\n",
       "      <td>-0.943901</td>\n",
       "      <td>0.046170</td>\n",
       "      <td>0</td>\n",
       "    </tr>\n",
       "    <tr>\n",
       "      <th>3</th>\n",
       "      <td>1.954261</td>\n",
       "      <td>-0.053469</td>\n",
       "      <td>1</td>\n",
       "    </tr>\n",
       "    <tr>\n",
       "      <th>4</th>\n",
       "      <td>1.463387</td>\n",
       "      <td>-0.505438</td>\n",
       "      <td>1</td>\n",
       "    </tr>\n",
       "  </tbody>\n",
       "</table>\n",
       "</div>"
      ],
      "text/plain": [
       "          x         y  label\n",
       "0  1.871850  0.038276      1\n",
       "1 -0.792371  0.606460      0\n",
       "2 -0.943901  0.046170      0\n",
       "3  1.954261 -0.053469      1\n",
       "4  1.463387 -0.505438      1"
      ]
     },
     "execution_count": 27,
     "metadata": {},
     "output_type": "execute_result"
    }
   ],
   "source": [
    "df.head()"
   ]
  },
  {
   "cell_type": "code",
   "execution_count": 102,
   "metadata": {},
   "outputs": [],
   "source": [
    "num_examples = len(X) \n",
    "input_dim = 2\n",
    "output_dim = 2 \n",
    "\n",
    "\n",
    "epsilon = 0.01 \n",
    "reg_lambda = 0.01 "
   ]
  },
  {
   "cell_type": "code",
   "execution_count": 33,
   "metadata": {},
   "outputs": [],
   "source": [
    "def calculate_loss(model):\n",
    "    Weight1, bias1, Weight2, bias2 = model['Weight1'], model['bias1'], model['Weight2'], model['bias2']\n",
    "    \n",
    "    z1 = train.dot(Weight1) + bias1\n",
    "    a1 = np.tanh(z1)\n",
    "    z2 = a1.dot(Weight2) + bias2\n",
    "    exp_scores = np.exp(z2)\n",
    "    probs = exp_scores / np.sum(exp_scores, axis=1, keepdims=True)\n",
    "    \n",
    "    corect_logprobs = -np.log(probs[range(num_examples), y])\n",
    "    data_loss = np.sum(corect_logprobs)\n",
    "    \n",
    "    data_loss += reg_lambda/2 * (np.sum(np.square(Weight1)) + np.sum(np.square(Weight2)))\n",
    "    return 1./num_examples * data_loss"
   ]
  },
  {
   "cell_type": "code",
   "execution_count": 151,
   "metadata": {},
   "outputs": [],
   "source": [
    "def predict(model, x):\n",
    "    Weight1, bias1, Weight2, bias2 = model['Weight1'], model['bias1'], model['Weight2'], model['bias2']\n",
    "    \n",
    "    z1 = x.dot(Weight1) + bias1\n",
    "    a1 = np.tanh(z1)\n",
    "    z2 = a1.dot(Weight2) + bias2\n",
    "    exp_scores = np.exp(z2)\n",
    "    probs = exp_scores / np.sum(exp_scores, axis=1, keepdims=True)\n",
    "    return np.argmax(probs, axis=1)"
   ]
  },
  {
   "cell_type": "code",
   "execution_count": 118,
   "metadata": {},
   "outputs": [],
   "source": [
    "def build_model(hidden_layer, num_passes=300, print_loss=False):\n",
    "    \n",
    "    \n",
    "    np.random.seed(0)\n",
    "    Weight1 = np.random.randn(input_dim, hidden_layer) / np.sqrt(input_dim)\n",
    "    bias1 = np.zeros((1, hidden_layer))\n",
    "    Weight2 = np.random.randn(hidden_layer, output_dim) / np.sqrt(hidden_layer)\n",
    "    bias2 = np.zeros((1, output_dim))  \n",
    "    model = {}\n",
    "    for i in range(0, num_passes):\n",
    "\n",
    "        for j in range(len(X)):\n",
    "            idx = np.random.choice(np.arange(len(X)), 5)\n",
    "            X_sample = X[idx]\n",
    "            y_sample = y[idx] \n",
    "            z1 = X_sample.dot(Weight1) + bias1\n",
    "            a1 = np.tanh(z1)\n",
    "            z2 = a1.dot(Weight2) + bias2\n",
    "            exp_scores = np.exp(z2)\n",
    "            \n",
    "            probs = exp_scores / np.sum(exp_scores, axis=1, keepdims=True)\n",
    "            \n",
    "\n",
    "            delta3 = probs\n",
    "            delta3[range(len(X_sample)), y_sample] -= 1\n",
    "            dW2 = (a1.T).dot(delta3)\n",
    "            db2 = np.sum(delta3, axis=0, keepdims=True)\n",
    "            delta2 = delta3.dot(Weight2.T) * (1 - np.power(a1, 2))\n",
    "            dW1 = np.dot(X_sample.T, delta2)\n",
    "            db1 = np.sum(delta2, axis=0)\n",
    "\n",
    "\n",
    "            dW2 += reg_lambda * Weight2\n",
    "            dW1 += reg_lambda * Weight1\n",
    "\n",
    "\n",
    "            Weight1 += -epsilon * dW1\n",
    "            bias1 += -epsilon * db1\n",
    "            Weight2 += -epsilon * dW2\n",
    "            bias2 += -epsilon * db2\n",
    "\n",
    "\n",
    "            model = { 'Weight1': Weight1, 'bias1': bias1, 'Weight2': Weight2, 'bias2': bias2}\n",
    "\n",
    "        \n",
    "        if print_loss and i % 30 == 0:\n",
    "            print(\"Loss after iteration %i: %f\" %(i, calculate_loss(model)))\n",
    "    \n",
    "    return model"
   ]
  },
  {
   "cell_type": "code",
   "execution_count": 160,
   "metadata": {},
   "outputs": [
    {
     "name": "stdout",
     "output_type": "stream",
     "text": [
      "Loss after iteration 0: 0.386333\n",
      "Loss after iteration 30: 0.085024\n",
      "Loss after iteration 60: 0.040721\n",
      "Loss after iteration 90: 0.035234\n",
      "Loss after iteration 120: 0.033776\n",
      "Loss after iteration 150: 0.033088\n",
      "Loss after iteration 180: 0.033108\n",
      "Loss after iteration 210: 0.032782\n",
      "Loss after iteration 240: 0.033605\n",
      "Loss after iteration 270: 0.033001\n"
     ]
    },
    {
     "data": {
      "text/plain": [
       "Text(0.5, 1.0, 'Decision Boundary for hidden layer size 3')"
      ]
     },
     "execution_count": 160,
     "metadata": {},
     "output_type": "execute_result"
    },
    {
     "data": {
      "image/png": "[encoded data removed]",
      "text/plain": [
       "<Figure size 432x288 with 1 Axes>"
      ]
     },
     "metadata": {
      "needs_background": "light"
     },
     "output_type": "display_data"
    }
   ],
   "source": [
    "model = build_model(4, print_loss=True)\n",
    "\n",
    "\n",
    "plot_decision_boundary(lambda x: predict(model, x))\n",
    "plt.title(\"Decision Boundary for hidden layer size 4\")"
   ]
  },
  {
   "cell_type": "code",
   "execution_count": 159,
   "metadata": {},
   "outputs": [
    {
     "name": "stdout",
     "output_type": "stream",
     "text": [
      "<function <lambda> at 0x0000018FE51A5510>\n"
     ]
    }
   ],
   "source": [
    "ff = [lambda x: predict(model, x)]\n",
    "for i in ff:\n",
    "    print(i)"
   ]
  },
  {
   "cell_type": "code",
   "execution_count": null,
   "metadata": {},
   "outputs": [],
   "source": []
  },
  {
   "cell_type": "code",
   "execution_count": null,
   "metadata": {},
   "outputs": [],
   "source": [
    "from sklearn.model_selection import train_test_split\n",
    "def split(Xdata,Ydata):\n",
    "    x_train, x_test, y_train, y_test = train_test_split(Xdata,Ydata, test_size=0.2,random_state=0)\n",
    "    return x_train,y_train,x_test,y_test"
   ]
  },
  {
   "cell_type": "code",
   "execution_count": null,
   "metadata": {},
   "outputs": [],
   "source": [
    "x_train1,y_train1,x_test1,y_test1 = split(X,y)"
   ]
  },
  {
   "cell_type": "code",
   "execution_count": 134,
   "metadata": {},
   "outputs": [],
   "source": [
    "head = data_utils.TensorDataset(torch.tensor(X), torch.tensor(y))\n",
    "train_loader = data_utils.DataLoader(head, batch_size=10, shuffle=False)\n",
    "train_loader1 = data_utils.DataLoader(head, batch_size=1000, shuffle=False)"
   ]
  },
  {
   "cell_type": "code",
   "execution_count": 270,
   "metadata": {},
   "outputs": [],
   "source": [
    "class NN_Model(nn.Module):\n",
    "    def __init__(self):\n",
    "        \n",
    "        super(NN_Model, self).__init__()\n",
    "        \n",
    "        \n",
    "        self.fc1 = nn.Linear(2, 4)\n",
    "        self.fc2 = nn.Linear(4,4)\n",
    "        self.fc3 = nn.Linear(4,2)\n",
    "        \n",
    "    def forward(self,x):\n",
    "        \n",
    "        #print(x)\n",
    "        x = F.relu(self.fc1(x))\n",
    "        x = F.relu(self.fc2(x))\n",
    "        x = F.softmax(self.fc3(x))\n",
    "        \n",
    "        return x"
   ]
  },
  {
   "cell_type": "code",
   "execution_count": 271,
   "metadata": {},
   "outputs": [],
   "source": [
    "\n",
    "model = NN_Model()\n",
    "\n",
    "optimizer = optim.SGD(model.parameters(), lr=0.01, momentum=0.5)"
   ]
  },
  {
   "cell_type": "code",
   "execution_count": 272,
   "metadata": {},
   "outputs": [],
   "source": [
    "def train(epoch):\n",
    "    model1 = model.double()\n",
    "    model1.train()\n",
    "    for batch_idx, (X,Y) in enumerate(train_loader): \n",
    "        X, Y = Var(X), Var(Y)\n",
    "        optimizer.zero_grad()\n",
    "        output = model1(X)\n",
    "        Y = Y.squeeze()\n",
    "        loss = F.nll_loss(output, Y)\n",
    "        loss.backward()\n",
    "        optimizer.step()\n",
    "    if epoch % 200 == 0:\n",
    "        print('Train Epoch: {} [{}/{} ({:.0f}%)]\\tLoss: {:.6f}'.format(\n",
    "            epoch, batch_idx * len(X), len(train_loader.dataset),\n",
    "            100. * batch_idx / len(train_loader), loss.item()))"
   ]
  },
  {
   "cell_type": "code",
   "execution_count": 273,
   "metadata": {},
   "outputs": [],
   "source": [
    "def score(x):\n",
    "    model1 = model.double()\n",
    "    model1.eval()\n",
    "    x = torch.tensor(x)\n",
    "    \n",
    "    output = model(x)\n",
    "    pred = output.data.max(1, keepdim=True)[1]\n",
    "    #pred = np.round(pred)\n",
    "    \n",
    "    return pred"
   ]
  },
  {
   "cell_type": "code",
   "execution_count": 274,
   "metadata": {},
   "outputs": [],
   "source": [
    "def prediction(eopch):\n",
    "    model1 = model.double()\n",
    "    model1.eval()\n",
    "    test_loss = 0\n",
    "    correct = 0\n",
    "    for batch_idx, (X,Y) in enumerate(train_loader1):\n",
    "\n",
    "        X,Y = Var(X), Var(Y)\n",
    "        output = model1(X)\n",
    "        Y = Y.squeeze()\n",
    "        test_loss += F.nll_loss(output, Y, size_average=False).data\n",
    "        \n",
    "        pred = output.data.max(1, keepdim=True)[1]\n",
    "        correct += pred.eq(Y.data.view_as(pred)).cpu().sum()\n",
    "\n",
    "    test_loss /= len(train_loader1.dataset)\n",
    "    \n",
    "    print('\\nTest set: Average loss: {:.4f}, Test_Accuracy: {}/{} ({:.0f}%)\\n'.format(\n",
    "        test_loss, correct, len(train_loader1.dataset),\n",
    "        100. * correct / len(train_loader1.dataset)))\n",
    "    return pred\n",
    "    "
   ]
  },
  {
   "cell_type": "code",
   "execution_count": 275,
   "metadata": {
    "collapsed": true
   },
   "outputs": [
    {
     "name": "stderr",
     "output_type": "stream",
     "text": [
      "C:\\Users\\hp\\Anaconda3\\lib\\site-packages\\ipykernel_launcher.py:16: UserWarning: Implicit dimension choice for softmax has been deprecated. Change the call to include dim=X as an argument.\n",
      "  app.launch_new_instance()\n"
     ]
    },
    {
     "name": "stdout",
     "output_type": "stream",
     "text": [
      "Train Epoch: 0 [90/100 (90%)]\tLoss: -0.513169\n",
      "Train Epoch: 200 [90/100 (90%)]\tLoss: -0.772475\n",
      "Train Epoch: 400 [90/100 (90%)]\tLoss: -0.828589\n",
      "Train Epoch: 600 [90/100 (90%)]\tLoss: -0.830256\n",
      "Train Epoch: 800 [90/100 (90%)]\tLoss: -0.912006\n",
      "Train Epoch: 1000 [90/100 (90%)]\tLoss: -0.933145\n",
      "Train Epoch: 1200 [90/100 (90%)]\tLoss: -0.956909\n",
      "Train Epoch: 1400 [90/100 (90%)]\tLoss: -0.977499\n",
      "Train Epoch: 1600 [90/100 (90%)]\tLoss: -0.987389\n",
      "Train Epoch: 1800 [90/100 (90%)]\tLoss: -0.991354\n"
     ]
    }
   ],
   "source": [
    "for epoch in range(2000):\n",
    "    train(epoch)"
   ]
  },
  {
   "cell_type": "code",
   "execution_count": 276,
   "metadata": {},
   "outputs": [
    {
     "name": "stderr",
     "output_type": "stream",
     "text": [
      "C:\\Users\\hp\\Anaconda3\\lib\\site-packages\\ipykernel_launcher.py:16: UserWarning: Implicit dimension choice for softmax has been deprecated. Change the call to include dim=X as an argument.\n",
      "  app.launch_new_instance()\n"
     ]
    },
    {
     "name": "stdout",
     "output_type": "stream",
     "text": [
      "\n",
      "Test set: Average loss: -0.9949, Test_Accuracy: 100/100 (100%)\n",
      "\n"
     ]
    }
   ],
   "source": [
    "pred = prediction(1)"
   ]
  },
  {
   "cell_type": "code",
   "execution_count": 277,
   "metadata": {
    "scrolled": true
   },
   "outputs": [
    {
     "name": "stderr",
     "output_type": "stream",
     "text": [
      "C:\\Users\\hp\\Anaconda3\\lib\\site-packages\\ipykernel_launcher.py:16: UserWarning: Implicit dimension choice for softmax has been deprecated. Change the call to include dim=X as an argument.\n",
      "  app.launch_new_instance()\n"
     ]
    },
    {
     "data": {
      "text/plain": [
       "Text(0.5, 1.0, 'Decision Boundary for hidden layer size 3')"
      ]
     },
     "execution_count": 277,
     "metadata": {},
     "output_type": "execute_result"
    },
    {
     "data": {
      "image/png": "[encoded data removed]",
      "text/plain": [
       "<Figure size 432x288 with 1 Axes>"
      ]
     },
     "metadata": {
      "needs_background": "light"
     },
     "output_type": "display_data"
    }
   ],
   "source": [
    "plot_decision_boundary(lambda x: score(x))\n",
    "plt.title(\"Decision Boundary for hidden layer size 3\")"
   ]
  },
  {
   "cell_type": "code",
   "execution_count": 12,
   "metadata": {},
   "outputs": [],
   "source": [
    "def score2(x):    \n",
    "    pred = kmeans.predict(x)\n",
    "    #pred = np.round(pred)\n",
    "    \n",
    "    return pred"
   ]
  },
  {
   "cell_type": "code",
   "execution_count": 1,
   "metadata": {},
   "outputs": [],
   "source": [
    "from sklearn.cluster import KMeans\n",
    "import numpy as np"
   ]
  },
  {
   "cell_type": "code",
   "execution_count": 7,
   "metadata": {},
   "outputs": [],
   "source": [
    "kmeans = KMeans(n_clusters=2, random_state=0).fit(X)"
   ]
  },
  {
   "cell_type": "code",
   "execution_count": 13,
   "metadata": {},
   "outputs": [
    {
     "data": {
      "text/plain": [
       "Text(0.5, 1.0, 'Decision Boundary for hidden layer size 4')"
      ]
     },
     "execution_count": 13,
     "metadata": {},
     "output_type": "execute_result"
    },
    {
     "data": {
      "image/png": "[encoded data removed]",
      "text/plain": [
       "<Figure size 432x288 with 1 Axes>"
      ]
     },
     "metadata": {
      "needs_background": "light"
     },
     "output_type": "display_data"
    }
   ],
   "source": [
    "plot_decision_boundary(lambda x: score2(x))\n",
    "plt.title(\"Decision Boundary for hidden layer size 4\")"
   ]
  },
  {
   "cell_type": "code",
   "execution_count": 20,
   "metadata": {},
   "outputs": [],
   "source": [
    "def score3(x):    \n",
    "    pred = gmm.predict(x)\n",
    "    #pred = np.round(pred)\n",
    "    \n",
    "    return pred"
   ]
  },
  {
   "cell_type": "code",
   "execution_count": 29,
   "metadata": {},
   "outputs": [
    {
     "data": {
      "text/plain": [
       "GaussianMixture(covariance_type='full', init_params='kmeans', max_iter=100,\n",
       "        means_init=None, n_components=2, n_init=1, precisions_init=None,\n",
       "        random_state=None, reg_covar=1e-06, tol=0.001, verbose=0,\n",
       "        verbose_interval=10, warm_start=False, weights_init=None)"
      ]
     },
     "execution_count": 29,
     "metadata": {},
     "output_type": "execute_result"
    }
   ],
   "source": [
    "from sklearn.mixture import GaussianMixture\n",
    "gmm = mixture.GaussianMixture(n_components=2, covariance_type='full')\n",
    "gmm.fit(X)"
   ]
  },
  {
   "cell_type": "code",
   "execution_count": 30,
   "metadata": {},
   "outputs": [
    {
     "data": {
      "text/plain": [
       "Text(0.5, 1.0, 'Decision Boundary for hidden layer size 4')"
      ]
     },
     "execution_count": 30,
     "metadata": {},
     "output_type": "execute_result"
    },
    {
     "data": {
      "image/png": "[encoded data removed]",
      "text/plain": [
       "<Figure size 432x288 with 1 Axes>"
      ]
     },
     "metadata": {
      "needs_background": "light"
     },
     "output_type": "display_data"
    }
   ],
   "source": [
    "plot_decision_boundary(lambda x: score3(x))\n",
    "plt.title(\"Decision Boundary for hidden layer size 4\")"
   ]
  },
  {
   "cell_type": "code",
   "execution_count": 23,
   "metadata": {},
   "outputs": [],
   "source": [
    "def score4(x):    \n",
    "    pred = clustering.predict(x)\n",
    "    #pred = np.round(pred)\n",
    "    \n",
    "    return pred"
   ]
  },
  {
   "cell_type": "code",
   "execution_count": 33,
   "metadata": {},
   "outputs": [],
   "source": [
    "from sklearn.cluster import AgglomerativeClustering\n",
    "clustering = AgglomerativeClustering(n_clusters = 2, linkage = \"single\").fit(X)"
   ]
  },
  {
   "cell_type": "code",
   "execution_count": 34,
   "metadata": {},
   "outputs": [
    {
     "data": {
      "text/plain": [
       "Text(0.5, 1.0, 'Decision Boundary for hidden layer size 4')"
      ]
     },
     "execution_count": 34,
     "metadata": {},
     "output_type": "execute_result"
    },
    {
     "data": {
      "image/png": "[encoded data removed]",
      "text/plain": [
       "<Figure size 432x288 with 1 Axes>"
      ]
     },
     "metadata": {
      "needs_background": "light"
     },
     "output_type": "display_data"
    }
   ],
   "source": [
    "plot_decision_boundary(lambda x: score3(x))\n",
    "plt.title(\"Decision Boundary for hidden layer size 4\")"
   ]
  },
  {
   "cell_type": "code",
   "execution_count": null,
   "metadata": {},
   "outputs": [],
   "source": []
  }
 ],
 "metadata": {
  "kernelspec": {
   "display_name": "Python 3",
   "language": "python",
   "name": "python3"
  },
  "language_info": {
   "codemirror_mode": {
    "name": "ipython",
    "version": 3
   },
   "file_extension": ".py",
   "mimetype": "text/x-python",
   "name": "python",
   "nbconvert_exporter": "python",
   "pygments_lexer": "ipython3",
   "version": "3.6.8"
  }
 },
 "nbformat": 4,
 "nbformat_minor": 2
}
